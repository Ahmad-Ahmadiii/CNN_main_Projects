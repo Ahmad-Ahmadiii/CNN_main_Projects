{
 "cells": [
  {
   "cell_type": "markdown",
   "id": "563e37bf",
   "metadata": {},
   "source": [
    "## \"Convolutional Neural Network Application\"\n",
    "<br>\n",
    "<img src=\"./images/Binary_smile_or_not.jpg\" style=\"\">\n",
    "<caption><center><b> <font color=\"blue\">Fig1. HappyFace dataset</captoin></center></b></font>"
   ]
  },
  {
   "cell_type": "code",
   "execution_count": 1,
   "id": "5d028286",
   "metadata": {},
   "outputs": [],
   "source": [
    "# importing fundamental packages:\n",
    "# import:\n",
    "import math\n",
    "import h5py\n",
    "import scipy\n",
    "import numpy as np\n",
    "import pandas as pd\n",
    "import tensorflow as tf\n",
    "import matplotlib.pyplot as plt\n",
    "import tensorflow.keras.layers as tfl\n",
    "\n",
    "# form:\n",
    "from PIL import Image\n",
    "from cnn_utils import *\n",
    "from matplotlib.pyplot import imread\n",
    "from test_utils import summary, comparator\n",
    "from tensorflow.python.framework import ops\n",
    "from tensorflow.keras.utils import to_categorical\n",
    "\n",
    "# magic command:\n",
    "np.random.seed(1)\n",
    "%matplotlib inline"
   ]
  },
  {
   "cell_type": "markdown",
   "id": "05f1eccf",
   "metadata": {},
   "source": [
    "### 1) Loading the Data and split data into Train/Test sets:\n",
    "\n",
    "- dataset => <b>Happy House dataset</b> => containing images of people's face.\n",
    "- type => <b>binary classification</b> => simle or not ! :) or :("
   ]
  },
  {
   "cell_type": "code",
   "execution_count": 2,
   "id": "f6cbaf4c",
   "metadata": {},
   "outputs": [
    {
     "name": "stdout",
     "output_type": "stream",
     "text": [
      "number of training example: 600\n",
      "number of test example: 150\n",
      "X_train shape: (600, 64, 64, 3)\n",
      "X_test shape: (150, 64, 64, 3)\n",
      "Y_train shape: (600, 2)\n",
      "Y_test shape: (150, 2)\n"
     ]
    }
   ],
   "source": [
    "# loading data:\n",
    "X_train_orig, Y_train_orig, X_test_orig, Y_test_orig, classes = load_happy_dataset()\n",
    "\n",
    "# Normalizing image vectors:\n",
    "X_train = X_train_orig / 255\n",
    "X_test = X_test_orig / 255\n",
    "\n",
    "# # Reshaping from (1, 600) to (600, 1)\n",
    "# Y_train = Y_train_orig.T\n",
    "#Y_test = Y_test_orig.T\n",
    "\n",
    "# one-hot encoding:\n",
    "Y_train = convert_to_one_hot(Y_train_orig, 2).T\n",
    "Y_test = convert_to_one_hot(Y_test_orig, 2).T\n",
    "\n",
    "# printing:\n",
    "print(f\"number of training example: {X_train.shape[0]}\")\n",
    "print(f\"number of test example: {X_test.shape[0]}\")\n",
    "print(f\"X_train shape: {X_train.shape}\")\n",
    "print(f\"X_test shape: {X_test.shape}\")\n",
    "print(f\"Y_train shape: {Y_train.shape}\")\n",
    "print(f\"Y_test shape: {Y_test.shape}\")"
   ]
  },
  {
   "cell_type": "code",
   "execution_count": 3,
   "id": "7ca22de1",
   "metadata": {},
   "outputs": [
    {
     "data": {
      "image/png": "[encoded data removed]",
      "text/plain": [
       "<Figure size 432x288 with 1 Axes>"
      ]
     },
     "metadata": {
      "needs_background": "light"
     },
     "output_type": "display_data"
    }
   ],
   "source": [
    "# visualizing our dataset:\n",
    "# one image:\n",
    "image_index = 124\n",
    "plt.imshow(X_train_orig[image_index])\n",
    "plt.show()"
   ]
  },
  {
   "cell_type": "markdown",
   "id": "da980b27",
   "metadata": {},
   "source": [
    "___\n",
    "### Layers in TF (TensorFlow) Keras API:\n",
    "\n",
    "- In <b>tf.keras()</b>, you don't have to write code directly to create layers. rather, <b>tf.keras()</b> has pre-defined layers that you can use.\n",
    "- <b>Keras</b> is a high-level API built on top of `TensorFlow`, which allows for more simplified and optimized model creation and training.\n",
    "\n",
    "- For this problem, we'll be creating a model using Keras' Sequential's API and it's ideal for building models where each layer has <b>`exactly one input`</b> tensor and <b>one</b> output tensor.\n",
    "- The <b>Functional API</b> is<font color=\"red\"> more powerfull</font> than <b>Sequential API</b>.\n",
    "- For any layer construction in Keras, you'll need to specify <b>the input shape</b> in advance."
   ]
  },
  {
   "cell_type": "code",
   "execution_count": 4,
   "id": "f045faf3",
   "metadata": {},
   "outputs": [],
   "source": [
    "# defining our model using Keras' Sequential Model:\n",
    "\n",
    "def happy_model():\n",
    "    \"\"\"\n",
    "    Implementing the forward propagation for binary classification model:\n",
    "    \n",
    "    ZeroPad => Conv2D => BatchNorm => ReLU => MaxPool => Flatten => Dense\n",
    "    \n",
    "    Arguments:\n",
    "    No Argument!\n",
    "    \n",
    "    Return:\n",
    "    model => TF Keras model (it's an object, containing all information for the entire training process.)\n",
    "    \n",
    "    \"\"\"\n",
    "    \n",
    "    model = tf.keras.Sequential([\n",
    "        \n",
    "        # ZeroPadding2D layer => padding = 3, input shape =  64 x 64 x 3:\n",
    "        tf.keras.layers.InputLayer(input_shape=(64, 64, 3)),\n",
    "        tf.keras.layers.ZeroPadding2D(padding=3),\n",
    "        \n",
    "        # Conv2D layer => filters = 32, 7 x7 filter size, stride of 1:\n",
    "        tf.keras.layers.Conv2D(filters=32,\n",
    "                               kernel_size=(7, 7),\n",
    "                               strides=(1,1),\n",
    "                               padding=\"valid\"),\n",
    "        \n",
    "        # BatchNormalizaton for axis= 3:\n",
    "        tf.keras.layers.BatchNormalization(axis=3),\n",
    "        \n",
    "        # ReLU activation functoin:\n",
    "        tf.keras.layers.ReLU(),\n",
    "        \n",
    "        # Max pooling 2D layer, with default values:\n",
    "        tf.keras.layers.MaxPool2D(),\n",
    "        \n",
    "        # Flatten layer:\n",
    "        tf.keras.layers.Flatten(),\n",
    "        \n",
    "        # Desne layer with 2 unit (simle or not => 0 or 1)\n",
    "        tf.keras.layers.Dense(2, activation=\"sigmoid\")\n",
    "    ])\n",
    "    \n",
    "    return model"
   ]
  },
  {
   "cell_type": "code",
   "execution_count": 5,
   "id": "35385dec",
   "metadata": {},
   "outputs": [
    {
     "name": "stdout",
     "output_type": "stream",
     "text": [
      "['ZeroPadding2D', (None, 70, 70, 3), 0, ((3, 3), (3, 3))]\n",
      "['Conv2D', (None, 64, 64, 32), 4736, 'valid', 'linear', 'GlorotUniform']\n",
      "['BatchNormalization', (None, 64, 64, 32), 128]\n",
      "['ReLU', (None, 64, 64, 32), 0]\n",
      "['MaxPooling2D', (None, 32, 32, 32), 0, (2, 2), (2, 2), 'valid']\n",
      "['Flatten', (None, 32768), 0]\n",
      "['Dense', (None, 2), 65538, 'sigmoid']\n"
     ]
    }
   ],
   "source": [
    "# testing happy_model() function:\n",
    "happy_model = happy_model()\n",
    "\n",
    "for layer in summary(happy_model):\n",
    "    print(layer)"
   ]
  },
  {
   "cell_type": "code",
   "execution_count": 6,
   "id": "bb6e12d8",
   "metadata": {},
   "outputs": [],
   "source": [
    "# compiling our model:\n",
    "happy_model.compile(optimizer=\"adam\", \n",
    "                    loss=\"binary_crossentropy\", \n",
    "                    metrics=[\"accuracy\"])"
   ]
  },
  {
   "cell_type": "code",
   "execution_count": 7,
   "id": "a3078c51",
   "metadata": {},
   "outputs": [
    {
     "name": "stdout",
     "output_type": "stream",
     "text": [
      "Model: \"sequential\"\n",
      "_________________________________________________________________\n",
      "Layer (type)                 Output Shape              Param #   \n",
      "=================================================================\n",
      "zero_padding2d (ZeroPadding2 (None, 70, 70, 3)         0         \n",
      "_________________________________________________________________\n",
      "conv2d (Conv2D)              (None, 64, 64, 32)        4736      \n",
      "_________________________________________________________________\n",
      "batch_normalization (BatchNo (None, 64, 64, 32)        128       \n",
      "_________________________________________________________________\n",
      "re_lu (ReLU)                 (None, 64, 64, 32)        0         \n",
      "_________________________________________________________________\n",
      "max_pooling2d (MaxPooling2D) (None, 32, 32, 32)        0         \n",
      "_________________________________________________________________\n",
      "flatten (Flatten)            (None, 32768)             0         \n",
      "_________________________________________________________________\n",
      "dense (Dense)                (None, 2)                 65538     \n",
      "=================================================================\n",
      "Total params: 70,402\n",
      "Trainable params: 70,338\n",
      "Non-trainable params: 64\n",
      "_________________________________________________________________\n"
     ]
    }
   ],
   "source": [
    "# it's time to check our model's parameters:\n",
    "# using model_name.summary()\n",
    "happy_model.summary()"
   ]
  },
  {
   "cell_type": "code",
   "execution_count": 8,
   "id": "7c931b44",
   "metadata": {},
   "outputs": [
    {
     "name": "stdout",
     "output_type": "stream",
     "text": [
      "Epoch 1/9\n",
      "38/38 [==============================] - 19s 476ms/step - loss: 1.3457 - accuracy: 0.6967\n",
      "Epoch 2/9\n",
      "38/38 [==============================] - 18s 465ms/step - loss: 0.2191 - accuracy: 0.9133\n",
      "Epoch 3/9\n",
      "38/38 [==============================] - 17s 458ms/step - loss: 0.2043 - accuracy: 0.9250\n",
      "Epoch 4/9\n",
      "38/38 [==============================] - 17s 442ms/step - loss: 0.2012 - accuracy: 0.9267\n",
      "Epoch 5/9\n",
      "38/38 [==============================] - 19s 496ms/step - loss: 0.0995 - accuracy: 0.9683\n",
      "Epoch 6/9\n",
      "38/38 [==============================] - 18s 483ms/step - loss: 0.1630 - accuracy: 0.9317\n",
      "Epoch 7/9\n",
      "38/38 [==============================] - 16s 434ms/step - loss: 0.1200 - accuracy: 0.9683\n",
      "Epoch 8/9\n",
      "38/38 [==============================] - 16s 424ms/step - loss: 0.1064 - accuracy: 0.9617\n",
      "Epoch 9/9\n",
      "38/38 [==============================] - 18s 476ms/step - loss: 0.0927 - accuracy: 0.9683\n"
     ]
    },
    {
     "data": {
      "text/plain": [
       "<keras.callbacks.History at 0x15a86088>"
      ]
     },
     "execution_count": 8,
     "metadata": {},
     "output_type": "execute_result"
    }
   ],
   "source": [
    "# Training and Evaluating our model:\n",
    "# Training => .fit()\n",
    "happy_model.fit(x = X_train,\n",
    "                y = Y_train,\n",
    "                epochs = 9,\n",
    "                batch_size = 16)"
   ]
  },
  {
   "cell_type": "code",
   "execution_count": 9,
   "id": "1482bd93",
   "metadata": {},
   "outputs": [
    {
     "name": "stdout",
     "output_type": "stream",
     "text": [
      "5/5 [==============================] - 2s 313ms/step - loss: 0.7660 - accuracy: 0.7000\n"
     ]
    },
    {
     "data": {
      "text/plain": [
       "[0.7660091519355774, 0.699999988079071]"
      ]
     },
     "execution_count": 9,
     "metadata": {},
     "output_type": "execute_result"
    }
   ],
   "source": [
    "# Evaluating => .Evaluate()\n",
    "happy_model.evaluate(x=X_test,\n",
    "                     y=Y_test)"
   ]
  },
  {
   "cell_type": "code",
   "execution_count": 10,
   "id": "c3293a46",
   "metadata": {},
   "outputs": [],
   "source": [
    "# saving our model:\n",
    "happy_model.save(\"./saved_model_1/happy_model.h5\")"
   ]
  },
  {
   "cell_type": "code",
   "execution_count": 11,
   "id": "1d5c0f3b",
   "metadata": {},
   "outputs": [
    {
     "data": {
      "image/png": "[encoded data removed]",
      "text/plain": [
       "<Figure size 432x288 with 1 Axes>"
      ]
     },
     "metadata": {
      "needs_background": "light"
     },
     "output_type": "display_data"
    }
   ],
   "source": [
    "# Testing our model visually:\n",
    "test_index = 71  \n",
    "test_image = X_test[test_index] # => he's not smiling\n",
    "plt.imshow(test_image)\n",
    "plt.show()"
   ]
  },
  {
   "cell_type": "code",
   "execution_count": 12,
   "id": "40510f22",
   "metadata": {},
   "outputs": [
    {
     "name": "stdout",
     "output_type": "stream",
     "text": [
      "He is not smiling\n"
     ]
    }
   ],
   "source": [
    "# using our model to predict:\n",
    "net_predict = np.argmax(happy_model.predict(test_image.reshape(1, 64, 64, 3)), axis=1)\n",
    "print(\"He is smiling\") if net_predict==1 else print(\"He is not smiling\")"
   ]
  },
  {
   "cell_type": "code",
   "execution_count": 13,
   "id": "9c042cb8",
   "metadata": {
    "scrolled": true
   },
   "outputs": [
    {
     "data": {
      "image/png": "[encoded data removed]",
      "text/plain": [
       "<Figure size 432x288 with 1 Axes>"
      ]
     },
     "metadata": {
      "needs_background": "light"
     },
     "output_type": "display_data"
    }
   ],
   "source": [
    "# Testing our model visually:\n",
    "test_index = 69\n",
    "test_image = X_test[test_index] # => he's smiling\n",
    "plt.imshow(test_image)\n",
    "plt.show()"
   ]
  },
  {
   "cell_type": "code",
   "execution_count": 14,
   "id": "03496bb2",
   "metadata": {},
   "outputs": [
    {
     "name": "stdout",
     "output_type": "stream",
     "text": [
      "He is smiling\n"
     ]
    }
   ],
   "source": [
    "# using our model to predict:\n",
    "net_predict = np.argmax(happy_model.predict(test_image.reshape(1, 64, 64, 3)), axis=1)\n",
    "print(\"He is smiling\") if net_predict==1 else print(\"He is not smiling\")"
   ]
  },
  {
   "cell_type": "markdown",
   "id": "0a40c111",
   "metadata": {},
   "source": [
    "## THE END "
   ]
  }
 ],
 "metadata": {
  "kernelspec": {
   "display_name": "Python 3 (ipykernel)",
   "language": "python",
   "name": "python3"
  },
  "language_info": {
   "codemirror_mode": {
    "name": "ipython",
    "version": 3
   },
   "file_extension": ".py",
   "mimetype": "text/x-python",
   "name": "python",
   "nbconvert_exporter": "python",
   "pygments_lexer": "ipython3",
   "version": "3.7.11"
  }
 },
 "nbformat": 4,
 "nbformat_minor": 5
}
