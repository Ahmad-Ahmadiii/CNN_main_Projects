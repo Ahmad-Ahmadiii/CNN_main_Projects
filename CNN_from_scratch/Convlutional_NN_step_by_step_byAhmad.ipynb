{
 "cells": [
  {
   "cell_type": "markdown",
   "id": "c66e72e5",
   "metadata": {},
   "source": [
    "## Convolutioal Neural Network step by step:\n",
    "<img src=\"./images/CNN_01.jpg\" style=\"\">\n",
    "<caption><center><font color=\"blue\"><b>Fig1. Convlutional Neural Network</b></font></center></caption>"
   ]
  },
  {
   "cell_type": "code",
   "execution_count": 1,
   "id": "36992845",
   "metadata": {},
   "outputs": [],
   "source": [
    "# Importing fundamental packages:\n",
    "import h5py\n",
    "import numpy as np\n",
    "import matplotlib.pyplot as plt\n",
    "\n",
    "# From:\n",
    "from public_tests import *\n",
    "\n",
    "# plt.plot settings:\n",
    "plt.rcParams['figure.figsize'] = (5.0, 4.0)\n",
    "plt.rcParams['image.interpolation'] = \"nearest\"\n",
    "plt.rcParams['image.cmap'] = \"gray\""
   ]
  },
  {
   "cell_type": "markdown",
   "id": "a12e2196",
   "metadata": {},
   "source": [
    "<b> `Convolutional` Functions include:</b>\n",
    "- 1) Zero padding\n",
    "- 2) Convolve window\n",
    "- 3) Convolution forward\n",
    "- 4) Convolution backward\n",
    "\n",
    "<b> `Pooling` Functions include:</b>\n",
    "- 1) Pooling forward\n",
    "- 2) Creating mask\n",
    "- 3) Distribute value\n",
    "- 4) Pooling backward\n",
    "\n",
    "<img src=\"../CNN_from_scratch/images/model.png\" style=\"width:800px;heigh:300px\">"
   ]
  },
  {
   "cell_type": "markdown",
   "id": "9d692a7b",
   "metadata": {},
   "source": [
    "### What is Convolutional Layer ?\n",
    "- A `convolutional layer` transforms an <b>input volume</b> (or matrix) into an <b>output volume</b> of different size. \n",
    "\n",
    "<img src=\"../CNN_from_scratch/images/conv_nn.png\" style=\"width:400px;height:250px\">"
   ]
  },
  {
   "cell_type": "code",
   "execution_count": 2,
   "id": "3cdffad4",
   "metadata": {},
   "outputs": [],
   "source": [
    "# defining zero padding function:\n",
    "def zero_pad(X, pad):\n",
    "    \"\"\"\n",
    "    pad with zeros all images of the dataset X. The padding is applied to the height and width of an image,\n",
    "    \n",
    "    Argumets:\n",
    "    \n",
    "    X => python numpy array of shape (m, n_H, n_w, n_C) representing a batch of m images.\n",
    "    pad => integer, amount of padding around each image on vertical and horizontal dimensions.\n",
    "    \n",
    "    Returns:\n",
    "    X_pad => padded image of shape (m, n_H + 2 * pad, n_w + 2 * pad, n_C)\n",
    "    \n",
    "    \"\"\"\n",
    "    \n",
    "    X_pad = np.pad(X, ((0,0), (pad,pad), (pad,pad), (0,0)))\n",
    "    \n",
    "    return X_pad"
   ]
  },
  {
   "cell_type": "code",
   "execution_count": 3,
   "id": "adc718b7",
   "metadata": {},
   "outputs": [
    {
     "name": "stdout",
     "output_type": "stream",
     "text": [
      "x.shape:\n",
      " (4, 3, 3, 2)\n",
      "x_pad.shape:\n",
      " (4, 9, 9, 2)\n"
     ]
    },
    {
     "data": {
      "text/plain": [
       "<matplotlib.image.AxesImage at 0x9b0c208>"
      ]
     },
     "execution_count": 3,
     "metadata": {},
     "output_type": "execute_result"
    },
    {
     "data": {
      "image/png": "[encoded data removed]",
      "text/plain": [
       "<Figure size 360x288 with 2 Axes>"
      ]
     },
     "metadata": {
      "needs_background": "light"
     },
     "output_type": "display_data"
    }
   ],
   "source": [
    "# example:\n",
    "np.random.seed(1)\n",
    "x = np.random.randn(4, 3, 3, 2)\n",
    "x_pad = zero_pad(x, pad=3)\n",
    "\n",
    "# printing results:\n",
    "print(\"x.shape:\\n\", x.shape)\n",
    "print(\"x_pad.shape:\\n\", x_pad.shape)\n",
    "\n",
    "# figures:\n",
    "fig, ax_arr = plt.subplots(1, 2)\n",
    "ax_arr[0].set_title(\"x\")\n",
    "ax_arr[0].imshow(x[0, :, :, 0])\n",
    "ax_arr[1].set_title(\"x_pad\")\n",
    "ax_arr[1].imshow(x_pad[0, :, :, 0])"
   ]
  },
  {
   "cell_type": "markdown",
   "id": "a415c298",
   "metadata": {},
   "source": [
    "### 1) Single step of Convolution:\n",
    "\n",
    "- in this part, we implement a singel step of convolution, in which you we apply the Filter to a single position of the input. This will be used to build a whole convlutional unit, which:\n",
    "\n",
    "-<b> Takes an input volume </b><br>\n",
    "-<b> Applies a filter at every position of the input</b><br>\n",
    "-<b> finally, Outputs another volume (usually of diffetent size)</b><br>\n",
    "\n",
    "- This GIF shows how this step works:<br>\n",
    "<img src=\"../CNN_from_scratch/images/Convolution_schematic.gif\" style=\"width=400px;height=300px\">\n",
    "<caption><center><font color=\"blue\"><b>Fig1: (Convolutional Operation)</b></font></center></caption>"
   ]
  },
  {
   "cell_type": "code",
   "execution_count": 4,
   "id": "8aca3d21",
   "metadata": {},
   "outputs": [],
   "source": [
    "# defining a funciton for one step convolution:\n",
    "def conv_single_step(a_slice_prev, W, b):\n",
    "    \"\"\"\n",
    "    Applying one filter defined by parameters W on a single slice of (a_slice_prev) of the output\n",
    "    activaiton of previous layer.\n",
    "    \n",
    "    Arguments:\n",
    "    a_slice_prev => slice of input data of shape (f, f, n_C)\n",
    "    W => Weight parameters contained in a window, a matrix of shape(f, f, n_C_prev)\n",
    "    b => Bias parameters contained in a window, a matrix of shape (1, 1, 1)\n",
    "    \n",
    "    Returns:\n",
    "    Z => a scalar value, the result of convolving the sliding window (W,b) on a slice x of input data.\n",
    "    \n",
    "    \"\"\"\n",
    "    \n",
    "    s = a_slice_prev * W\n",
    "    Z = np.sum(s, axis=None)\n",
    "    Z = Z + float(b)\n",
    "    \n",
    "    return Z"
   ]
  },
  {
   "cell_type": "code",
   "execution_count": 5,
   "id": "e6a1a461",
   "metadata": {},
   "outputs": [
    {
     "name": "stdout",
     "output_type": "stream",
     "text": [
      "Z =  -6.999089450680221\n"
     ]
    }
   ],
   "source": [
    "# Test of fucntion:\n",
    "# initializing:\n",
    "np.random.seed(1)\n",
    "a_slice_prev = np.random.randn(4, 4, 3)\n",
    "W = np.random.randn(4, 4, 3)\n",
    "b = np.random.randn(1, 1, 1)\n",
    "\n",
    "# using the function:\n",
    "Z = conv_single_step(a_slice_prev=a_slice_prev, W=W, b=b)\n",
    "print(\"Z = \", Z)\n",
    "\n",
    "# validationg the answers:\n",
    "assert (type(Z) == np.float32 or type(Z) == np.float64)\n",
    "assert (np.isclose(Z, -6.999089450680221)), \"Wrong Value!\""
   ]
  },
  {
   "cell_type": "code",
   "execution_count": 6,
   "id": "1a37d8d6",
   "metadata": {},
   "outputs": [],
   "source": [
    "# defining Convolutional Forward:\n",
    "# defining conv_forward:\n",
    "\n",
    "def conv_forward(A_prev, W, b, hparameters):\n",
    "    \"\"\"\n",
    "    Implementing the forward propagation for a convolution function.\n",
    "    \n",
    "    Arguments:\n",
    "    A_prev => output activation of previous layer => numpy array of shape(m,n_H_prev,n_W_prev,n_C_prerv)\n",
    "    W => Weights, numpy array of shape (f, f, n_C_prev, n_C)\n",
    "    b => Biases, numpy array of shape (1, 1, 1, n_C)\n",
    "    hparameters => python dictionary containing \"pad\" and \"stride\".\n",
    "    \n",
    "    Return:\n",
    "    Z => conv_forward output, numpy array of shape (m, n_H, n_W, n_C)\n",
    "    cache => cache of values needed for conv_backward() function.\n",
    "    \n",
    "    \"\"\"\n",
    "    # retrieving dimensions:\n",
    "    (m, n_H_prev, n_W_prev, n_C_prev) = A_prev.shape\n",
    "    (f, f, n_C_prev, n_C) = W.shape\n",
    "    \n",
    "    # retriving information from hparameters:\n",
    "    pad = hparameters[\"pad\"]\n",
    "    stride = hparameters[\"stride\"]\n",
    "    \n",
    "    # the output dimension of conv_forward() function:\n",
    "    n_H = int((n_H_prev + 2 * pad - f) / stride) + 1 \n",
    "    n_W = int((n_W_prev + 2 * pad - f )/ stride) + 1\n",
    "    \n",
    "    # initialzing ouput Z with zeros:\n",
    "    Z = np.zeros(shape=(m, n_H, n_W, n_C))\n",
    "    \n",
    "    # creating A_prev_pad using => zero_pad(X, pad)\n",
    "    A_prev_pad = zero_pad(A_prev, pad)\n",
    "    \n",
    "    # looping over the batch of \"m\" trainng example:\n",
    "    for i in range(m):\n",
    "        a_prev_pad = A_prev_pad[i]\n",
    "        \n",
    "        # looping over the \"vertical axis\" of the output volume:\n",
    "        for h in range(n_H):\n",
    "            vert_start = h * stride\n",
    "            vert_end = vert_start + f\n",
    "            \n",
    "            # looping over the \"horizontal axis\" of the output volume:\n",
    "            for w in range(n_W):\n",
    "                horiz_start = w * stride\n",
    "                horiz_end = horiz_start + f\n",
    "                \n",
    "                # looping over the channels (= #filters) of the output volume:\n",
    "                for ch in range(n_C):\n",
    "                    \n",
    "                    # using the corners to define (3D) slice of a_prev_pad:\n",
    "                    a_slice_prev = a_prev_pad[vert_start:vert_end, horiz_start:horiz_end, :]\n",
    "                    weights = W[:, :, :, ch]\n",
    "                    biases = b[:, :, :, ch]\n",
    "                    \n",
    "                    # using conv_single_step() function to output Z:\n",
    "                    Z[i, h, w, ch] = conv_single_step(a_slice_prev, weights, biases)\n",
    "                    \n",
    "    # saving information in \"cache\" for backprop:\n",
    "    cache = (A_prev, W, b, hparameters)\n",
    "    \n",
    "    # return:\n",
    "    return Z, cache\n",
    "                \n",
    "    "
   ]
  },
  {
   "cell_type": "code",
   "execution_count": 7,
   "id": "f4e40402",
   "metadata": {},
   "outputs": [
    {
     "name": "stdout",
     "output_type": "stream",
     "text": [
      "Z's mean: 0.5511276474566768\n"
     ]
    }
   ],
   "source": [
    "# Test of function:\n",
    "np.random.seed(1)\n",
    "\n",
    "A_prev = np.random.randn(2, 5, 7, 4)\n",
    "W = np.random.randn(3, 3, 4, 8)\n",
    "b = np.random.randn(1, 1, 1, 8)\n",
    "hparameters = {\"pad\":1,\n",
    "               \"stride\":2}\n",
    "\n",
    "Z_output, cache_conv = conv_forward(A_prev, W=W, b=b, hparameters=hparameters)\n",
    "\n",
    "# print the result:\n",
    "print(f\"Z's mean: {np.mean(Z_output)}\")"
   ]
  },
  {
   "cell_type": "markdown",
   "id": "d4c8148b",
   "metadata": {},
   "source": [
    "### 2) Pooling layer\n",
    "- The pooling layer (POOL) reduces the heights and width of the input. in fact, it helps to reduce computation, as well as helps make feature detectors more invariant.<br><br>\n",
    "-<b>There are two main types of `Pooling Layer` :</b><br><br>\n",
    "1) <b>Max-Pooling layer:</b> slides an (f, f) window over the input and stores the max value of the window in the output.<br>\n",
    "2) <b>Average_Pooling layer:</b> slides an (f, f) window over the input and stores the average value of the window in the output.<br><br>\n",
    "\n",
    "<table>\n",
    "<td>\n",
    "<img src=\"../CNN_from_scratch/images/max_pool.png\" style=\"height:300px;width:500px\"> \n",
    "<td> \n",
    "    \n",
    "<td>\n",
    "<img src=\"../CNN_from_scratch/images/max_pool.png\" style=\"height:300px;width:500px\">\n",
    "<td>\n",
    "    \n",
    "    \n",
    "</table>\n",
    "<caption><center><b><font color=\"blue\"> Max pooling layer </b><center><caption><br>\n",
    "    \n",
    "The `Pooling Layers` have no parameters for backpropagation to train.but they have <b>`Hyperparameters`</b> such as the window size $f$.This specifies the `height` and `width` of the $f\\times f$ window."
   ]
  },
  {
   "cell_type": "code",
   "execution_count": 8,
   "id": "4f880e86",
   "metadata": {},
   "outputs": [],
   "source": [
    "# defining pooling layer function:\n",
    "# defining pool_forward()\n",
    "\n",
    "def pool_forward(A_prev, hparameters, mode=\"max\"):\n",
    "    \"\"\"\n",
    "    Implementing the forward pass of the pooling layer.\n",
    "    \n",
    "    Arguments:\n",
    "    A_prev => Input data => numpy array of shape (m, n_H_prev, n_W_prev, n_C_prev).\n",
    "    hparameters => Python dictionary => containing \"f\" and \"stride\".\n",
    "    mode => The pooling mode, you'd like to use. defined as string => (\"max\" or \"average\").\n",
    "    \n",
    "    Return:\n",
    "    A => Output of the pool layer => a numpy array of shape (m, n_H, n_W, n_C)\n",
    "    cache => cache used in backpropagation, contains the input and hparameters.\n",
    "    \n",
    "    \"\"\"\n",
    "    \n",
    "    # retrieving dimensions:\n",
    "    (m, n_H_prev, n_W_prev, n_C_prev) = A_prev.shape\n",
    "    \n",
    "    # retrieving hyper parameters from \"hparameters\":\n",
    "    f = hparameters[\"f\"]\n",
    "    stride = hparameters[\"stride\"]\n",
    "    \n",
    "    # defining the dimension of the output:\n",
    "    n_H = int((n_H_prev - f) / stride) + 1\n",
    "    n_W = int((n_W_prev - f) / stride) + 1\n",
    "    n_C = n_C_prev\n",
    "    \n",
    "    # initializing output matrix \"A\" with zeros:\n",
    "    A = np.zeros(shape=(m, n_H, n_W, n_C))\n",
    "    \n",
    "    # looping over the batch of \"m\" training example:\n",
    "    for i in range(m):\n",
    "        \n",
    "        # looping over the \"vertical axis\" of the output volume:\n",
    "        for h in range(n_H):\n",
    "            vert_start = h * stride\n",
    "            vert_end = vert_start + f\n",
    "            \n",
    "            # looping over the \"horizontal axis\" of the output volume:\n",
    "            for w in range(n_W):\n",
    "                horiz_start = w * stride\n",
    "                horiz_end = horiz_start + f\n",
    "                \n",
    "                # looping over the channels(#filters) of the output volume:\n",
    "                for ch in range(n_C):\n",
    "                    a_slice_prev = A_prev[i]\n",
    "                    \n",
    "                    if mode == \"max\":\n",
    "                        A[i, h, w, ch] = np.max(a_slice_prev[vert_start:vert_end,\n",
    "                                                             horiz_start:horiz_end, ch])\n",
    "                    elif mode == \"average\":\n",
    "                        A[i, h, w, ch] = np.average(a_slice_prev[vert_start:vert_end,\n",
    "                                                              horiz_start:horiz_end, ch])\n",
    "                        \n",
    "    # saving information in cache for backpropagation:\n",
    "    cache = (A_prev, hparameters)\n",
    "    \n",
    "    return A, cache\n",
    "                        "
   ]
  },
  {
   "cell_type": "code",
   "execution_count": 9,
   "id": "163a30ca",
   "metadata": {},
   "outputs": [
    {
     "name": "stdout",
     "output_type": "stream",
     "text": [
      "mode = max\n",
      "A shape: (2, 3, 3, 3)\n",
      "\n",
      "A[1, 1]:\n",
      "[[1.96710175 0.84616065 1.27375593]\n",
      " [1.96710175 0.84616065 1.23616403]\n",
      " [1.62765075 1.12141771 1.2245077 ]]\n"
     ]
    }
   ],
   "source": [
    "# Testing the function:\n",
    "# Test 1:\n",
    "np.random.seed(1)\n",
    "A_prev = np.random.randn(2, 5, 5, 3)\n",
    "hparameters = {\"stride\":1, \"f\":3}\n",
    "\n",
    "# using the function:\n",
    "A, cache = pool_forward(A_prev, hparameters=hparameters, mode=\"max\")\n",
    "\n",
    "print(\"mode = max\")\n",
    "print(f\"A shape: {A.shape}\\n\")\n",
    "print(f\"A[1, 1]:\\n{A[1, 1]}\")\n"
   ]
  },
  {
   "cell_type": "code",
   "execution_count": 10,
   "id": "d7a97de2",
   "metadata": {},
   "outputs": [
    {
     "name": "stdout",
     "output_type": "stream",
     "text": [
      "mode = average\n",
      "A shape: (2, 3, 3, 3)\n",
      "\n",
      "A[1, 1]:\n",
      " [[ 0.44497696 -0.00261695 -0.31040307]\n",
      " [ 0.50811474 -0.23493734 -0.23961183]\n",
      " [ 0.11872677  0.17255229 -0.22112197]]\n"
     ]
    }
   ],
   "source": [
    "# Testing function:\n",
    "# Test 2:\n",
    "np.random.seed(1)\n",
    "A_prev = np.random.randn(2, 5, 5, 3)\n",
    "hparameters = {\"stride\":1, \"f\":3}\n",
    "\n",
    "# using the funciton:\n",
    "A, cache = pool_forward(A_prev, hparameters=hparameters, mode=\"average\")\n",
    "print(\"mode = average\")\n",
    "print(f\"A shape: {A.shape}\\n\")\n",
    "print(f\"A[1, 1]:\\n {A[1, 1]}\")"
   ]
  },
  {
   "cell_type": "markdown",
   "id": "71200e4a",
   "metadata": {},
   "source": [
    "## The End"
   ]
  }
 ],
 "metadata": {
  "kernelspec": {
   "display_name": "Python 3 (ipykernel)",
   "language": "python",
   "name": "python3"
  },
  "language_info": {
   "codemirror_mode": {
    "name": "ipython",
    "version": 3
   },
   "file_extension": ".py",
   "mimetype": "text/x-python",
   "name": "python",
   "nbconvert_exporter": "python",
   "pygments_lexer": "ipython3",
   "version": "3.7.11"
  }
 },
 "nbformat": 4,
 "nbformat_minor": 5
}
